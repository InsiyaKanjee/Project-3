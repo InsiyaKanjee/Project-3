{
 "cells": [
  {
   "cell_type": "code",
   "execution_count": 1,
   "id": "a8031e4e",
   "metadata": {},
   "outputs": [],
   "source": [
    "import json\n",
    "import numpy as np\n",
    "import math\n",
    "from datetime import datetime"
   ]
  },
  {
   "cell_type": "markdown",
   "id": "fc0b27b4",
   "metadata": {},
   "source": [
    "# SHOP Stock Calculations"
   ]
  },
  {
   "cell_type": "code",
   "execution_count": 6,
   "id": "cb452e60",
   "metadata": {},
   "outputs": [
    {
     "name": "stdout",
     "output_type": "stream",
     "text": [
      "{\"Annual Return\": 42.07, \"Daily Volatility\": 187.12, \"Annualized Volatility\": 2970.44, \"Last 3 Months Return\": 18.51}\n"
     ]
    }
   ],
   "source": [
    "with open('../Data/SHOP_prices.json') as json_file:\n",
    "    SHOP_data = json.load(json_file)\n",
    "    \n",
    "#stock annual return\n",
    "SHOP_ann_return=round((((SHOP_data[0]['adjclose']/SHOP_data[len(SHOP_data)-1]['adjclose'])-1)*100),2)\n",
    "\n",
    "SHOP_price_array=[]\n",
    "for i in range(len(SHOP_data)):\n",
    "    SHOP_price_array.append(SHOP_data[i]['adjclose'])\n",
    "    \n",
    "#daily volatility\n",
    "SHOP_daily_vol = round(np.std(SHOP_price_array),2)\n",
    "\n",
    "#annualized volatility\n",
    "SHOP_ann_vol = SHOP_daily_vol * math.sqrt(252)\n",
    "SHOP_ann_vol = round(SHOP_ann_vol,2)\n",
    "\n",
    "#3 mon return volatility\n",
    "SHOP_date_array=[]\n",
    "\n",
    "for y in range(len(SHOP_data)):\n",
    "    SHOP_date_array.append(datetime.strptime(SHOP_data[y]['formatted_date'], '%Y-%m-%d'))\n",
    "    if (y == 0):\n",
    "        firstdate=SHOP_date_array[y]\n",
    "    if ((firstdate-SHOP_date_array[y]).days==91):\n",
    "        date_3mon_ago=SHOP_date_array[y]\n",
    "        mon3_index = y\n",
    "        \n",
    "#last three month return\n",
    "SHOP_3mon_return=round((((SHOP_data[0]['adjclose']/SHOP_data[mon3_index]['adjclose'])-1)*100),2)\n",
    "        \n",
    "# a Python object (dict):\n",
    "SHOP_summ_stats = {\n",
    "  \"Annual Return\": SHOP_ann_return,\n",
    "  \"Daily Volatility\": SHOP_daily_vol,\n",
    "  \"Annualized Volatility\": SHOP_ann_vol,\n",
    "  \"Last 3 Months Return\":  SHOP_3mon_return\n",
    "}\n",
    "\n",
    "# convert into JSON:\n",
    "SHOP_summ_stats = json.dumps(SHOP_summ_stats)\n",
    "\n",
    "# the result is a JSON string:\n",
    "print(SHOP_summ_stats)"
   ]
  },
  {
   "cell_type": "markdown",
   "id": "4ae91bd3",
   "metadata": {},
   "source": [
    "# TSLA Stock Calculations"
   ]
  },
  {
   "cell_type": "code",
   "execution_count": 7,
   "id": "51ac9642",
   "metadata": {},
   "outputs": [
    {
     "name": "stdout",
     "output_type": "stream",
     "text": [
      "{\"Annual Return\": 65.92, \"Daily Volatility\": 134.14, \"Annualized Volatility\": 2129.41, \"Last 3 Months Return\": 17.11}\n"
     ]
    }
   ],
   "source": [
    "with open('../Data/TSLA_prices.json') as json_file:\n",
    "    TSLA_data = json.load(json_file)\n",
    "    \n",
    "#stock annual return\n",
    "TSLA_ann_return=round((((TSLA_data[0]['adjclose']/TSLA_data[len(TSLA_data)-1]['adjclose'])-1)*100),2)\n",
    "\n",
    "TSLA_price_array=[]\n",
    "for i in range(len(TSLA_data)):\n",
    "    TSLA_price_array.append(TSLA_data[i]['adjclose'])\n",
    "    \n",
    "#daily volatility\n",
    "TSLA_daily_vol = round(np.std(TSLA_price_array),2)\n",
    "\n",
    "#annualized volatility\n",
    "TSLA_ann_vol = TSLA_daily_vol * math.sqrt(252)\n",
    "TSLA_ann_vol = round(TSLA_ann_vol,2)\n",
    "\n",
    "#3 mon return volatility\n",
    "TSLA_date_array=[]\n",
    "\n",
    "for y in range(len(TSLA_data)):\n",
    "    TSLA_date_array.append(datetime.strptime(TSLA_data[y]['formatted_date'], '%Y-%m-%d'))\n",
    "    if (y == 0):\n",
    "        firstdate=TSLA_date_array[y]\n",
    "    if ((firstdate-TSLA_date_array[y]).days==91):\n",
    "        date_3mon_ago=TSLA_date_array[y]\n",
    "        mon3_index = y\n",
    "        \n",
    "#last three month return\n",
    "TSLA_3mon_return=round((((TSLA_data[0]['adjclose']/TSLA_data[mon3_index]['adjclose'])-1)*100),2)\n",
    "        \n",
    "# a Python object (dict):\n",
    "TSLA_summ_stats = {\n",
    "  \"Annual Return\": TSLA_ann_return,\n",
    "  \"Daily Volatility\": TSLA_daily_vol,\n",
    "  \"Annualized Volatility\": TSLA_ann_vol,\n",
    "  \"Last 3 Months Return\":  TSLA_3mon_return\n",
    "}\n",
    "\n",
    "# convert into JSON:\n",
    "TSLA_summ_stats = json.dumps(TSLA_summ_stats)\n",
    "\n",
    "# the result is a JSON string:\n",
    "print(TSLA_summ_stats)"
   ]
  },
  {
   "cell_type": "markdown",
   "id": "23849942",
   "metadata": {},
   "source": [
    "# GOLD Stock Calculations"
   ]
  },
  {
   "cell_type": "code",
   "execution_count": 8,
   "id": "4f28801b",
   "metadata": {},
   "outputs": [
    {
     "name": "stdout",
     "output_type": "stream",
     "text": [
      "{\"Annual Return\": -33.02, \"Daily Volatility\": 2.83, \"Annualized Volatility\": 44.92, \"Last 3 Months Return\": -21.41}\n"
     ]
    }
   ],
   "source": [
    "with open('../Data/GOLD_prices.json') as json_file:\n",
    "    GOLD_data = json.load(json_file)\n",
    "    \n",
    "#stock annual return\n",
    "GOLD_ann_return=round((((GOLD_data[0]['adjclose']/GOLD_data[len(GOLD_data)-1]['adjclose'])-1)*100),2)\n",
    "\n",
    "GOLD_price_array=[]\n",
    "for i in range(len(GOLD_data)):\n",
    "    GOLD_price_array.append(GOLD_data[i]['adjclose'])\n",
    "    \n",
    "#daily volatility\n",
    "GOLD_daily_vol = round(np.std(GOLD_price_array),2)\n",
    "\n",
    "#annualized volatility\n",
    "GOLD_ann_vol = GOLD_daily_vol * math.sqrt(252)\n",
    "GOLD_ann_vol = round(GOLD_ann_vol,2)\n",
    "\n",
    "#3 mon return volatility\n",
    "GOLD_date_array=[]\n",
    "\n",
    "for y in range(len(GOLD_data)):\n",
    "    GOLD_date_array.append(datetime.strptime(GOLD_data[y]['formatted_date'], '%Y-%m-%d'))\n",
    "    if (y == 0):\n",
    "        firstdate=GOLD_date_array[y]\n",
    "    if ((firstdate-GOLD_date_array[y]).days==91):\n",
    "        date_3mon_ago=GOLD_date_array[y]\n",
    "        mon3_index = y\n",
    "        \n",
    "#last three month return\n",
    "GOLD_3mon_return=round((((GOLD_data[0]['adjclose']/GOLD_data[mon3_index]['adjclose'])-1)*100),2)\n",
    "        \n",
    "# a Python object (dict):\n",
    "GOLD_summ_stats = {\n",
    "  \"Annual Return\": GOLD_ann_return,\n",
    "  \"Daily Volatility\": GOLD_daily_vol,\n",
    "  \"Annualized Volatility\": GOLD_ann_vol,\n",
    "  \"Last 3 Months Return\":  GOLD_3mon_return\n",
    "}\n",
    "\n",
    "# convert into JSON:\n",
    "GOLD_summ_stats = json.dumps(GOLD_summ_stats)\n",
    "\n",
    "# the result is a JSON string:\n",
    "print(GOLD_summ_stats)"
   ]
  },
  {
   "cell_type": "markdown",
   "id": "acc3aaab",
   "metadata": {},
   "source": [
    "# DAL Stock Calculations"
   ]
  },
  {
   "cell_type": "code",
   "execution_count": 9,
   "id": "0e7b117b",
   "metadata": {},
   "outputs": [
    {
     "name": "stdout",
     "output_type": "stream",
     "text": [
      "{\"Annual Return\": 39.79, \"Daily Volatility\": 6.0, \"Annualized Volatility\": 95.25, \"Last 3 Months Return\": -15.68}\n"
     ]
    }
   ],
   "source": [
    "with open('../Data/DAL_prices.json') as json_file:\n",
    "    DAL_data = json.load(json_file)\n",
    "    \n",
    "#stock annual return\n",
    "DAL_ann_return=round((((DAL_data[0]['adjclose']/DAL_data[len(DAL_data)-1]['adjclose'])-1)*100),2)\n",
    "\n",
    "DAL_price_array=[]\n",
    "for i in range(len(DAL_data)):\n",
    "    DAL_price_array.append(DAL_data[i]['adjclose'])\n",
    "    \n",
    "#daily volatility\n",
    "DAL_daily_vol = round(np.std(DAL_price_array),2)\n",
    "\n",
    "#annualized volatility\n",
    "DAL_ann_vol = DAL_daily_vol * math.sqrt(252)\n",
    "DAL_ann_vol = round(DAL_ann_vol,2)\n",
    "\n",
    "#3 mon return volatility\n",
    "DAL_date_array=[]\n",
    "\n",
    "for y in range(len(DAL_data)):\n",
    "    DAL_date_array.append(datetime.strptime(DAL_data[y]['formatted_date'], '%Y-%m-%d'))\n",
    "    if (y == 0):\n",
    "        firstdate=DAL_date_array[y]\n",
    "    if ((firstdate-DAL_date_array[y]).days==91):\n",
    "        date_3mon_ago=DAL_date_array[y]\n",
    "        mon3_index = y\n",
    "        \n",
    "#last three month return\n",
    "DAL_3mon_return=round((((DAL_data[0]['adjclose']/DAL_data[mon3_index]['adjclose'])-1)*100),2)\n",
    "        \n",
    "# a Python object (dict):\n",
    "DAL_summ_stats = {\n",
    "  \"Annual Return\": DAL_ann_return,\n",
    "  \"Daily Volatility\": DAL_daily_vol,\n",
    "  \"Annualized Volatility\": DAL_ann_vol,\n",
    "  \"Last 3 Months Return\":  DAL_3mon_return\n",
    "}\n",
    "\n",
    "# convert into JSON:\n",
    "DAL_summ_stats = json.dumps(DAL_summ_stats)\n",
    "\n",
    "# the result is a JSON string:\n",
    "print(DAL_summ_stats)"
   ]
  },
  {
   "cell_type": "markdown",
   "id": "1fd26915",
   "metadata": {},
   "source": [
    "# NFLX Stock Calculations"
   ]
  },
  {
   "cell_type": "code",
   "execution_count": 10,
   "id": "6f9188af",
   "metadata": {},
   "outputs": [
    {
     "name": "stdout",
     "output_type": "stream",
     "text": [
      "{\"Annual Return\": 11.08, \"Daily Volatility\": 23.71, \"Annualized Volatility\": 376.38, \"Last 3 Months Return\": 9.84}\n"
     ]
    }
   ],
   "source": [
    "with open('../Data/NFLX_prices.json') as json_file:\n",
    "    NFLX_data = json.load(json_file)\n",
    "    \n",
    "#stock annual return\n",
    "NFLX_ann_return=round((((NFLX_data[0]['adjclose']/NFLX_data[len(NFLX_data)-1]['adjclose'])-1)*100),2)\n",
    "\n",
    "NFLX_price_array=[]\n",
    "for i in range(len(NFLX_data)):\n",
    "    NFLX_price_array.append(NFLX_data[i]['adjclose'])\n",
    "    \n",
    "#daily volatility\n",
    "NFLX_daily_vol = round(np.std(NFLX_price_array),2)\n",
    "\n",
    "#annualized volatility\n",
    "NFLX_ann_vol = NFLX_daily_vol * math.sqrt(252)\n",
    "NFLX_ann_vol = round(NFLX_ann_vol,2)\n",
    "\n",
    "#3 mon return volatility\n",
    "NFLX_date_array=[]\n",
    "\n",
    "for y in range(len(NFLX_data)):\n",
    "    NFLX_date_array.append(datetime.strptime(NFLX_data[y]['formatted_date'], '%Y-%m-%d'))\n",
    "    if (y == 0):\n",
    "        firstdate=NFLX_date_array[y]\n",
    "    if ((firstdate-NFLX_date_array[y]).days==91):\n",
    "        date_3mon_ago=NFLX_date_array[y]\n",
    "        mon3_index = y\n",
    "        \n",
    "#last three month return\n",
    "NFLX_3mon_return=round((((NFLX_data[0]['adjclose']/NFLX_data[mon3_index]['adjclose'])-1)*100),2)\n",
    "        \n",
    "# a Python object (dict):\n",
    "NFLX_summ_stats = {\n",
    "  \"Annual Return\": NFLX_ann_return,\n",
    "  \"Daily Volatility\": NFLX_daily_vol,\n",
    "  \"Annualized Volatility\": NFLX_ann_vol,\n",
    "  \"Last 3 Months Return\":  NFLX_3mon_return\n",
    "}\n",
    "\n",
    "# convert into JSON:\n",
    "NFLX_summ_stats = json.dumps(NFLX_summ_stats)\n",
    "\n",
    "# the result is a JSON string:\n",
    "print(NFLX_summ_stats)"
   ]
  },
  {
   "cell_type": "markdown",
   "id": "a929e828",
   "metadata": {},
   "source": [
    "# AAPL Stock Calculations"
   ]
  },
  {
   "cell_type": "code",
   "execution_count": 11,
   "id": "cabd7c97",
   "metadata": {},
   "outputs": [
    {
     "name": "stdout",
     "output_type": "stream",
     "text": [
      "{\"Annual Return\": 19.91, \"Daily Volatility\": 10.44, \"Annualized Volatility\": 165.73, \"Last 3 Months Return\": 18.32}\n"
     ]
    }
   ],
   "source": [
    "with open('../Data/AAPL_prices.json') as json_file:\n",
    "    AAPL_data = json.load(json_file)\n",
    "    \n",
    "#stock annual return\n",
    "AAPL_ann_return=round((((AAPL_data[0]['adjclose']/AAPL_data[len(AAPL_data)-1]['adjclose'])-1)*100),2)\n",
    "\n",
    "AAPL_price_array=[]\n",
    "for i in range(len(AAPL_data)):\n",
    "    AAPL_price_array.append(AAPL_data[i]['adjclose'])\n",
    "    \n",
    "#daily volatility\n",
    "AAPL_daily_vol = round(np.std(AAPL_price_array),2)\n",
    "\n",
    "#annualized volatility\n",
    "AAPL_ann_vol = AAPL_daily_vol * math.sqrt(252)\n",
    "AAPL_ann_vol = round(AAPL_ann_vol,2)\n",
    "\n",
    "#3 mon return volatility\n",
    "AAPL_date_array=[]\n",
    "\n",
    "for y in range(len(AAPL_data)):\n",
    "    AAPL_date_array.append(datetime.strptime(AAPL_data[y]['formatted_date'], '%Y-%m-%d'))\n",
    "    if (y == 0):\n",
    "        firstdate=AAPL_date_array[y]\n",
    "    if ((firstdate-AAPL_date_array[y]).days==91):\n",
    "        date_3mon_ago=AAPL_date_array[y]\n",
    "        mon3_index = y\n",
    "        \n",
    "#last three month return\n",
    "AAPL_3mon_return=round((((AAPL_data[0]['adjclose']/AAPL_data[mon3_index]['adjclose'])-1)*100),2)\n",
    "        \n",
    "# a Python object (dict):\n",
    "AAPL_summ_stats = {\n",
    "  \"Annual Return\": AAPL_ann_return,\n",
    "  \"Daily Volatility\": AAPL_daily_vol,\n",
    "  \"Annualized Volatility\": AAPL_ann_vol,\n",
    "  \"Last 3 Months Return\":  AAPL_3mon_return\n",
    "}\n",
    "\n",
    "# convert into JSON:\n",
    "AAPL_summ_stats = json.dumps(AAPL_summ_stats)\n",
    "\n",
    "# the result is a JSON string:\n",
    "print(AAPL_summ_stats)"
   ]
  },
  {
   "cell_type": "markdown",
   "id": "3890f7b0",
   "metadata": {},
   "source": [
    "# PFE Stock Calculations"
   ]
  },
  {
   "cell_type": "code",
   "execution_count": 12,
   "id": "1250c3d5",
   "metadata": {},
   "outputs": [
    {
     "name": "stdout",
     "output_type": "stream",
     "text": [
      "{\"Annual Return\": 37.43, \"Daily Volatility\": 3.6, \"Annualized Volatility\": 57.15, \"Last 3 Months Return\": 23.06}\n"
     ]
    }
   ],
   "source": [
    "with open('../Data/PFE_prices.json') as json_file:\n",
    "    PFE_data = json.load(json_file)\n",
    "    \n",
    "#stock annual return\n",
    "PFE_ann_return=round((((PFE_data[0]['adjclose']/PFE_data[len(PFE_data)-1]['adjclose'])-1)*100),2)\n",
    "\n",
    "PFE_price_array=[]\n",
    "for i in range(len(PFE_data)):\n",
    "    PFE_price_array.append(PFE_data[i]['adjclose'])\n",
    "    \n",
    "#daily volatility\n",
    "PFE_daily_vol = round(np.std(PFE_price_array),2)\n",
    "\n",
    "#annualized volatility\n",
    "PFE_ann_vol = PFE_daily_vol * math.sqrt(252)\n",
    "PFE_ann_vol = round(PFE_ann_vol,2)\n",
    "\n",
    "#3 mon return volatility\n",
    "PFE_date_array=[]\n",
    "\n",
    "for y in range(len(PFE_data)):\n",
    "    PFE_date_array.append(datetime.strptime(PFE_data[y]['formatted_date'], '%Y-%m-%d'))\n",
    "    if (y == 0):\n",
    "        firstdate=PFE_date_array[y]\n",
    "    if ((firstdate-PFE_date_array[y]).days==91):\n",
    "        date_3mon_ago=PFE_date_array[y]\n",
    "        mon3_index = y\n",
    "        \n",
    "#last three month return\n",
    "PFE_3mon_return=round((((PFE_data[0]['adjclose']/PFE_data[mon3_index]['adjclose'])-1)*100),2)\n",
    "        \n",
    "# a Python object (dict):\n",
    "PFE_summ_stats = {\n",
    "  \"Annual Return\": PFE_ann_return,\n",
    "  \"Daily Volatility\": PFE_daily_vol,\n",
    "  \"Annualized Volatility\": PFE_ann_vol,\n",
    "  \"Last 3 Months Return\":  PFE_3mon_return\n",
    "}\n",
    "\n",
    "# convert into JSON:\n",
    "PFE_summ_stats = json.dumps(PFE_summ_stats)\n",
    "\n",
    "# the result is a JSON string:\n",
    "print(PFE_summ_stats)"
   ]
  },
  {
   "cell_type": "markdown",
   "id": "2e83e58e",
   "metadata": {},
   "source": [
    "# BTC Stock Calculations"
   ]
  },
  {
   "cell_type": "code",
   "execution_count": 13,
   "id": "b1c08cf8",
   "metadata": {},
   "outputs": [
    {
     "name": "stdout",
     "output_type": "stream",
     "text": [
      "{\"Annual Return\": -0.39, \"Daily Volatility\": 0.47, \"Annualized Volatility\": 7.46, \"Last 3 Months Return\": 0.5}\n"
     ]
    }
   ],
   "source": [
    "with open('../Data/BTC_prices.json') as json_file:\n",
    "    BTC_data = json.load(json_file)\n",
    "    \n",
    "#stock annual return\n",
    "BTC_ann_return=round((((BTC_data[0]['adjclose']/BTC_data[len(BTC_data)-1]['adjclose'])-1)*100),2)\n",
    "\n",
    "BTC_price_array=[]\n",
    "for i in range(len(BTC_data)):\n",
    "    BTC_price_array.append(BTC_data[i]['adjclose'])\n",
    "    \n",
    "#daily volatility\n",
    "BTC_daily_vol = round(np.std(BTC_price_array),2)\n",
    "\n",
    "#annualized volatility\n",
    "BTC_ann_vol = BTC_daily_vol * math.sqrt(252)\n",
    "BTC_ann_vol = round(BTC_ann_vol,2)\n",
    "\n",
    "#3 mon return volatility\n",
    "BTC_date_array=[]\n",
    "\n",
    "for y in range(len(BTC_data)):\n",
    "    BTC_date_array.append(datetime.strptime(BTC_data[y]['formatted_date'], '%Y-%m-%d'))\n",
    "    if (y == 0):\n",
    "        firstdate=BTC_date_array[y]\n",
    "    if ((firstdate-BTC_date_array[y]).days==91):\n",
    "        date_3mon_ago=BTC_date_array[y]\n",
    "        mon3_index = y\n",
    "        \n",
    "#last three month return\n",
    "BTC_3mon_return=round((((BTC_data[0]['adjclose']/BTC_data[mon3_index]['adjclose'])-1)*100),2)\n",
    "        \n",
    "# a Python object (dict):\n",
    "BTC_summ_stats = {\n",
    "  \"Annual Return\": BTC_ann_return,\n",
    "  \"Daily Volatility\": BTC_daily_vol,\n",
    "  \"Annualized Volatility\": BTC_ann_vol,\n",
    "  \"Last 3 Months Return\":  BTC_3mon_return\n",
    "}\n",
    "\n",
    "# convert into JSON:\n",
    "BTC_summ_stats = json.dumps(BTC_summ_stats)\n",
    "\n",
    "# the result is a JSON string:\n",
    "print(BTC_summ_stats)"
   ]
  },
  {
   "cell_type": "code",
   "execution_count": null,
   "id": "c11e35a9",
   "metadata": {},
   "outputs": [],
   "source": []
  }
 ],
 "metadata": {
  "kernelspec": {
   "display_name": "Python 3",
   "language": "python",
   "name": "python3"
  },
  "language_info": {
   "codemirror_mode": {
    "name": "ipython",
    "version": 3
   },
   "file_extension": ".py",
   "mimetype": "text/x-python",
   "name": "python",
   "nbconvert_exporter": "python",
   "pygments_lexer": "ipython3",
   "version": "3.8.8"
  }
 },
 "nbformat": 4,
 "nbformat_minor": 5
}

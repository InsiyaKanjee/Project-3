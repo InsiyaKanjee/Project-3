{
 "cells": [
  {
   "cell_type": "code",
   "execution_count": 1,
   "id": "a8031e4e",
   "metadata": {},
   "outputs": [],
   "source": [
    "import json\n",
    "import numpy as np\n",
    "import math\n",
    "from datetime import datetime"
   ]
  },
  {
   "cell_type": "markdown",
   "id": "fc0b27b4",
   "metadata": {},
   "source": [
    "# SHOP Stock Calculations"
   ]
  },
  {
   "cell_type": "code",
   "execution_count": 2,
   "id": "cb452e60",
   "metadata": {},
   "outputs": [
    {
     "name": "stdout",
     "output_type": "stream",
     "text": [
      "{\"Annual Return\": 42.07, \"Standard Deviation\": 187.12, \"Mean\": 1191.92, \"Daily Volatility %\": 15.7, \"Annualized Volatility\": 249.23, \"Last 3 Months Return\": 18.51}\n"
     ]
    }
   ],
   "source": [
    "with open('../Data/SHOP_prices.json') as json_file:\n",
    "    SHOP_data = json.load(json_file)\n",
    "    \n",
    "#stock annual return\n",
    "SHOP_ann_return=round((((SHOP_data[0]['adjclose']/SHOP_data[len(SHOP_data)-1]['adjclose'])-1)*100),2)\n",
    "\n",
    "SHOP_price_array=[]\n",
    "for i in range(len(SHOP_data)):\n",
    "    SHOP_price_array.append(SHOP_data[i]['adjclose'])\n",
    "    \n",
    "#daily volatility\n",
    "SHOP_daily_vol = round(np.std(SHOP_price_array/np.mean(SHOP_price_array)*100),2)\n",
    "\n",
    "\n",
    "#annualized volatility\n",
    "SHOP_ann_vol = SHOP_daily_vol * math.sqrt(252)\n",
    "SHOP_ann_vol = round(SHOP_ann_vol,2)\n",
    "\n",
    "#3 mon return volatility\n",
    "SHOP_date_array=[]\n",
    "\n",
    "for y in range(len(SHOP_data)):\n",
    "    SHOP_date_array.append(datetime.strptime(SHOP_data[y]['formatted_date'], '%Y-%m-%d'))\n",
    "    if (y == 0):\n",
    "        firstdate=SHOP_date_array[y]\n",
    "    if ((firstdate-SHOP_date_array[y]).days==91):\n",
    "        date_3mon_ago=SHOP_date_array[y]\n",
    "        mon3_index = y\n",
    "        \n",
    "#last three month return\n",
    "SHOP_3mon_return=round((((SHOP_data[0]['adjclose']/SHOP_data[mon3_index]['adjclose'])-1)*100),2)\n",
    "        \n",
    "# a Python object (dict):\n",
    "SHOP_summ_stats = {\n",
    "  \"Annual Return\": SHOP_ann_return,\n",
    "  \"Standard Deviation\": round(np.std(SHOP_price_array),2),\n",
    "  \"Mean\": round(np.mean(SHOP_price_array),2),\n",
    "  \"Daily Volatility %\": SHOP_daily_vol,\n",
    "  \"Annualized Volatility\": SHOP_ann_vol,\n",
    "  \"Last 3 Months Return\":  SHOP_3mon_return\n",
    "}\n",
    "\n",
    "# convert into JSON:\n",
    "SHOP_summ_stats = json.dumps(SHOP_summ_stats)\n",
    "\n",
    "# the result is a JSON string:\n",
    "print(SHOP_summ_stats)"
   ]
  },
  {
   "cell_type": "markdown",
   "id": "4ae91bd3",
   "metadata": {},
   "source": [
    "# TSLA Stock Calculations"
   ]
  },
  {
   "cell_type": "code",
   "execution_count": 3,
   "id": "51ac9642",
   "metadata": {},
   "outputs": [
    {
     "name": "stdout",
     "output_type": "stream",
     "text": [
      "{\"Annual Return\": 65.92, \"Standard Deviation\": 134.14, \"Mean\": 618.29, \"Daily Volatility %\": 21.69, \"Annualized Volatility\": 344.32, \"Last 3 Months Return\": 17.11}\n"
     ]
    }
   ],
   "source": [
    "with open('../Data/TSLA_prices.json') as json_file:\n",
    "    TSLA_data = json.load(json_file)\n",
    "    \n",
    "#stock annual return\n",
    "TSLA_ann_return=round((((TSLA_data[0]['adjclose']/TSLA_data[len(TSLA_data)-1]['adjclose'])-1)*100),2)\n",
    "\n",
    "TSLA_price_array=[]\n",
    "for i in range(len(TSLA_data)):\n",
    "    TSLA_price_array.append(TSLA_data[i]['adjclose'])\n",
    "    \n",
    "#daily volatility\n",
    "TSLA_daily_vol = round(np.std(TSLA_price_array/np.mean(TSLA_price_array)*100),2)\n",
    "\n",
    "#annualized volatility\n",
    "TSLA_ann_vol = TSLA_daily_vol * math.sqrt(252)\n",
    "TSLA_ann_vol = round(TSLA_ann_vol,2)\n",
    "\n",
    "#3 mon return volatility\n",
    "TSLA_date_array=[]\n",
    "\n",
    "for y in range(len(TSLA_data)):\n",
    "    TSLA_date_array.append(datetime.strptime(TSLA_data[y]['formatted_date'], '%Y-%m-%d'))\n",
    "    if (y == 0):\n",
    "        firstdate=TSLA_date_array[y]\n",
    "    if ((firstdate-TSLA_date_array[y]).days==91):\n",
    "        date_3mon_ago=TSLA_date_array[y]\n",
    "        mon3_index = y\n",
    "        \n",
    "#last three month return\n",
    "TSLA_3mon_return=round((((TSLA_data[0]['adjclose']/TSLA_data[mon3_index]['adjclose'])-1)*100),2)\n",
    "        \n",
    "# a Python object (dict):\n",
    "TSLA_summ_stats = {\n",
    "  \"Annual Return\": TSLA_ann_return,\n",
    "  \"Standard Deviation\": round(np.std(TSLA_price_array),2),\n",
    "  \"Mean\": round(np.mean(TSLA_price_array),2),\n",
    "  \"Daily Volatility %\": TSLA_daily_vol,\n",
    "  \"Annualized Volatility\": TSLA_ann_vol,\n",
    "  \"Last 3 Months Return\":  TSLA_3mon_return\n",
    "}\n",
    "\n",
    "# convert into JSON:\n",
    "TSLA_summ_stats = json.dumps(TSLA_summ_stats)\n",
    "\n",
    "# the result is a JSON string:\n",
    "print(TSLA_summ_stats)"
   ]
  },
  {
   "cell_type": "markdown",
   "id": "23849942",
   "metadata": {},
   "source": [
    "# GOLD Stock Calculations"
   ]
  },
  {
   "cell_type": "code",
   "execution_count": 4,
   "id": "4f28801b",
   "metadata": {},
   "outputs": [
    {
     "name": "stdout",
     "output_type": "stream",
     "text": [
      "{\"Annual Return\": -33.02, \"Standard Deviation\": 2.83, \"Mean\": 23.21, \"Daily Volatility %\": 12.19, \"Annualized Volatility\": 193.51, \"Last 3 Months Return\": -21.41}\n"
     ]
    }
   ],
   "source": [
    "with open('../Data/GOLD_prices.json') as json_file:\n",
    "    GOLD_data = json.load(json_file)\n",
    "    \n",
    "#stock annual return\n",
    "GOLD_ann_return=round((((GOLD_data[0]['adjclose']/GOLD_data[len(GOLD_data)-1]['adjclose'])-1)*100),2)\n",
    "\n",
    "GOLD_price_array=[]\n",
    "for i in range(len(GOLD_data)):\n",
    "    GOLD_price_array.append(GOLD_data[i]['adjclose'])\n",
    "    \n",
    "#daily volatility\n",
    "GOLD_daily_vol = round(np.std(GOLD_price_array/np.mean(GOLD_price_array)*100),2)\n",
    "\n",
    "#annualized volatility\n",
    "GOLD_ann_vol = GOLD_daily_vol * math.sqrt(252)\n",
    "GOLD_ann_vol = round(GOLD_ann_vol,2)\n",
    "\n",
    "#3 mon return volatility\n",
    "GOLD_date_array=[]\n",
    "\n",
    "for y in range(len(GOLD_data)):\n",
    "    GOLD_date_array.append(datetime.strptime(GOLD_data[y]['formatted_date'], '%Y-%m-%d'))\n",
    "    if (y == 0):\n",
    "        firstdate=GOLD_date_array[y]\n",
    "    if ((firstdate-GOLD_date_array[y]).days==91):\n",
    "        date_3mon_ago=GOLD_date_array[y]\n",
    "        mon3_index = y\n",
    "        \n",
    "#last three month return\n",
    "GOLD_3mon_return=round((((GOLD_data[0]['adjclose']/GOLD_data[mon3_index]['adjclose'])-1)*100),2)\n",
    "        \n",
    "# a Python object (dict):\n",
    "GOLD_summ_stats = {\n",
    "  \"Annual Return\": GOLD_ann_return,\n",
    "  \"Standard Deviation\": round(np.std(GOLD_price_array),2),\n",
    "  \"Mean\": round(np.mean(GOLD_price_array),2),\n",
    "  \"Daily Volatility %\": GOLD_daily_vol,\n",
    "  \"Annualized Volatility\": GOLD_ann_vol,\n",
    "  \"Last 3 Months Return\":  GOLD_3mon_return\n",
    "}\n",
    "\n",
    "# convert into JSON:\n",
    "GOLD_summ_stats = json.dumps(GOLD_summ_stats)\n",
    "\n",
    "# the result is a JSON string:\n",
    "print(GOLD_summ_stats)"
   ]
  },
  {
   "cell_type": "markdown",
   "id": "acc3aaab",
   "metadata": {},
   "source": [
    "# DAL Stock Calculations"
   ]
  },
  {
   "cell_type": "code",
   "execution_count": 5,
   "id": "0e7b117b",
   "metadata": {},
   "outputs": [
    {
     "name": "stdout",
     "output_type": "stream",
     "text": [
      "{\"Annual Return\": 39.79, \"Standard Deviation\": 6.0, \"Mean\": 40.8, \"Daily Volatility %\": 14.7, \"Annualized Volatility\": 233.36, \"Last 3 Months Return\": -15.68}\n"
     ]
    }
   ],
   "source": [
    "with open('../Data/DAL_prices.json') as json_file:\n",
    "    DAL_data = json.load(json_file)\n",
    "    \n",
    "#stock annual return\n",
    "DAL_ann_return=round((((DAL_data[0]['adjclose']/DAL_data[len(DAL_data)-1]['adjclose'])-1)*100),2)\n",
    "\n",
    "DAL_price_array=[]\n",
    "for i in range(len(DAL_data)):\n",
    "    DAL_price_array.append(DAL_data[i]['adjclose'])\n",
    "    \n",
    "#daily volatility\n",
    "DAL_daily_vol = round(np.std(DAL_price_array/np.mean(DAL_price_array)*100),2)\n",
    "\n",
    "#annualized volatility\n",
    "DAL_ann_vol = DAL_daily_vol * math.sqrt(252)\n",
    "DAL_ann_vol = round(DAL_ann_vol,2)\n",
    "\n",
    "#3 mon return volatility\n",
    "DAL_date_array=[]\n",
    "\n",
    "for y in range(len(DAL_data)):\n",
    "    DAL_date_array.append(datetime.strptime(DAL_data[y]['formatted_date'], '%Y-%m-%d'))\n",
    "    if (y == 0):\n",
    "        firstdate=DAL_date_array[y]\n",
    "    if ((firstdate-DAL_date_array[y]).days==91):\n",
    "        date_3mon_ago=DAL_date_array[y]\n",
    "        mon3_index = y\n",
    "        \n",
    "#last three month return\n",
    "DAL_3mon_return=round((((DAL_data[0]['adjclose']/DAL_data[mon3_index]['adjclose'])-1)*100),2)\n",
    "        \n",
    "# a Python object (dict):\n",
    "DAL_summ_stats = {\n",
    "  \"Annual Return\": DAL_ann_return,\n",
    "  \"Standard Deviation\": round(np.std(DAL_price_array),2),\n",
    "  \"Mean\": round(np.mean(DAL_price_array),2),  \n",
    "  \"Daily Volatility %\": DAL_daily_vol,\n",
    "  \"Annualized Volatility\": DAL_ann_vol,\n",
    "  \"Last 3 Months Return\":  DAL_3mon_return\n",
    "}\n",
    "\n",
    "# convert into JSON:\n",
    "DAL_summ_stats = json.dumps(DAL_summ_stats)\n",
    "\n",
    "# the result is a JSON string:\n",
    "print(DAL_summ_stats)"
   ]
  },
  {
   "cell_type": "markdown",
   "id": "1fd26915",
   "metadata": {},
   "source": [
    "# NFLX Stock Calculations"
   ]
  },
  {
   "cell_type": "code",
   "execution_count": 6,
   "id": "6f9188af",
   "metadata": {},
   "outputs": [
    {
     "name": "stdout",
     "output_type": "stream",
     "text": [
      "{\"Annual Return\": 11.08, \"Standard Deviation\": 23.71, \"Mean\": 515.58, \"Daily Volatility %\": 4.6, \"Annualized Volatility\": 73.02, \"Last 3 Months Return\": 9.84}\n"
     ]
    }
   ],
   "source": [
    "with open('../Data/NFLX_prices.json') as json_file:\n",
    "    NFLX_data = json.load(json_file)\n",
    "    \n",
    "#stock annual return\n",
    "NFLX_ann_return=round((((NFLX_data[0]['adjclose']/NFLX_data[len(NFLX_data)-1]['adjclose'])-1)*100),2)\n",
    "\n",
    "NFLX_price_array=[]\n",
    "for i in range(len(NFLX_data)):\n",
    "    NFLX_price_array.append(NFLX_data[i]['adjclose'])\n",
    "    \n",
    "#daily volatility\n",
    "NFLX_daily_vol = round(np.std(NFLX_price_array)/np.mean(NFLX_price_array)*100,2)\n",
    "\n",
    "#annualized volatility\n",
    "NFLX_ann_vol = NFLX_daily_vol * math.sqrt(252)\n",
    "NFLX_ann_vol = round(NFLX_ann_vol,2)\n",
    "\n",
    "#3 mon return volatility\n",
    "NFLX_date_array=[]\n",
    "\n",
    "for y in range(len(NFLX_data)):\n",
    "    NFLX_date_array.append(datetime.strptime(NFLX_data[y]['formatted_date'], '%Y-%m-%d'))\n",
    "    if (y == 0):\n",
    "        firstdate=NFLX_date_array[y]\n",
    "    if ((firstdate-NFLX_date_array[y]).days==91):\n",
    "        date_3mon_ago=NFLX_date_array[y]\n",
    "        mon3_index = y\n",
    "        \n",
    "#last three month return\n",
    "NFLX_3mon_return=round((((NFLX_data[0]['adjclose']/NFLX_data[mon3_index]['adjclose'])-1)*100),2)\n",
    "        \n",
    "# a Python object (dict):\n",
    "NFLX_summ_stats = {\n",
    "  \"Annual Return\": NFLX_ann_return,\n",
    "  \"Standard Deviation\": round(np.std(NFLX_price_array),2),\n",
    "  \"Mean\": round(np.mean(NFLX_price_array),2), \n",
    "  \"Daily Volatility %\": NFLX_daily_vol,\n",
    "  \"Annualized Volatility\": NFLX_ann_vol,\n",
    "  \"Last 3 Months Return\":  NFLX_3mon_return\n",
    "}\n",
    "\n",
    "# convert into JSON:\n",
    "NFLX_summ_stats = json.dumps(NFLX_summ_stats)\n",
    "\n",
    "# the result is a JSON string:\n",
    "print(NFLX_summ_stats)"
   ]
  },
  {
   "cell_type": "markdown",
   "id": "a929e828",
   "metadata": {},
   "source": [
    "# AAPL Stock Calculations"
   ]
  },
  {
   "cell_type": "code",
   "execution_count": 7,
   "id": "cabd7c97",
   "metadata": {},
   "outputs": [
    {
     "name": "stdout",
     "output_type": "stream",
     "text": [
      "{\"Annual Return\": 19.91, \"Standard Deviation\": 10.44, \"Mean\": 127.51, \"Daily Volatility %\": 8.19, \"Annualized Volatility\": 130.01, \"Last 3 Months Return\": 18.32}\n"
     ]
    }
   ],
   "source": [
    "with open('../Data/AAPL_prices.json') as json_file:\n",
    "    AAPL_data = json.load(json_file)\n",
    "    \n",
    "#stock annual return\n",
    "AAPL_ann_return=round((((AAPL_data[0]['adjclose']/AAPL_data[len(AAPL_data)-1]['adjclose'])-1)*100),2)\n",
    "\n",
    "AAPL_price_array=[]\n",
    "for i in range(len(AAPL_data)):\n",
    "    AAPL_price_array.append(AAPL_data[i]['adjclose'])\n",
    "    \n",
    "#daily volatility\n",
    "AAPL_daily_vol = round(np.std(AAPL_price_array/np.mean(AAPL_price_array)*100),2)\n",
    "\n",
    "#annualized volatility\n",
    "AAPL_ann_vol = AAPL_daily_vol * math.sqrt(252)\n",
    "AAPL_ann_vol = round(AAPL_ann_vol,2)\n",
    "\n",
    "#3 mon return volatility\n",
    "AAPL_date_array=[]\n",
    "\n",
    "for y in range(len(AAPL_data)):\n",
    "    AAPL_date_array.append(datetime.strptime(AAPL_data[y]['formatted_date'], '%Y-%m-%d'))\n",
    "    if (y == 0):\n",
    "        firstdate=AAPL_date_array[y]\n",
    "    if ((firstdate-AAPL_date_array[y]).days==91):\n",
    "        date_3mon_ago=AAPL_date_array[y]\n",
    "        mon3_index = y\n",
    "        \n",
    "#last three month return\n",
    "AAPL_3mon_return=round((((AAPL_data[0]['adjclose']/AAPL_data[mon3_index]['adjclose'])-1)*100),2)\n",
    "        \n",
    "# a Python object (dict):\n",
    "AAPL_summ_stats = {\n",
    "  \"Annual Return\": AAPL_ann_return,\n",
    "  \"Standard Deviation\": round(np.std(AAPL_price_array),2),\n",
    "  \"Mean\": round(np.mean(AAPL_price_array),2),   \n",
    "  \"Daily Volatility %\": AAPL_daily_vol,\n",
    "  \"Annualized Volatility\": AAPL_ann_vol,\n",
    "  \"Last 3 Months Return\":  AAPL_3mon_return\n",
    "}\n",
    "\n",
    "# convert into JSON:\n",
    "AAPL_summ_stats = json.dumps(AAPL_summ_stats)\n",
    "\n",
    "# the result is a JSON string:\n",
    "print(AAPL_summ_stats)"
   ]
  },
  {
   "cell_type": "markdown",
   "id": "3890f7b0",
   "metadata": {},
   "source": [
    "# PFE Stock Calculations"
   ]
  },
  {
   "cell_type": "code",
   "execution_count": 8,
   "id": "1250c3d5",
   "metadata": {},
   "outputs": [
    {
     "name": "stdout",
     "output_type": "stream",
     "text": [
      "{\"Annual Return\": 37.43, \"Standard Deviation\": 3.6, \"Mean\": 36.92, \"Daily Volatility %\": 9.76, \"Annualized Volatility\": 154.94, \"Last 3 Months Return\": 23.06}\n"
     ]
    }
   ],
   "source": [
    "with open('../Data/PFE_prices.json') as json_file:\n",
    "    PFE_data = json.load(json_file)\n",
    "    \n",
    "#stock annual return\n",
    "PFE_ann_return=round((((PFE_data[0]['adjclose']/PFE_data[len(PFE_data)-1]['adjclose'])-1)*100),2)\n",
    "\n",
    "PFE_price_array=[]\n",
    "for i in range(len(PFE_data)):\n",
    "    PFE_price_array.append(PFE_data[i]['adjclose'])\n",
    "    \n",
    "#daily volatility\n",
    "PFE_daily_vol = round(np.std(PFE_price_array/np.mean(PFE_price_array)*100),2)\n",
    "\n",
    "#annualized volatility\n",
    "PFE_ann_vol = PFE_daily_vol * math.sqrt(252)\n",
    "PFE_ann_vol = round(PFE_ann_vol,2)\n",
    "\n",
    "#3 mon return volatility\n",
    "PFE_date_array=[]\n",
    "\n",
    "for y in range(len(PFE_data)):\n",
    "    PFE_date_array.append(datetime.strptime(PFE_data[y]['formatted_date'], '%Y-%m-%d'))\n",
    "    if (y == 0):\n",
    "        firstdate=PFE_date_array[y]\n",
    "    if ((firstdate-PFE_date_array[y]).days==91):\n",
    "        date_3mon_ago=PFE_date_array[y]\n",
    "        mon3_index = y\n",
    "        \n",
    "#last three month return\n",
    "PFE_3mon_return=round((((PFE_data[0]['adjclose']/PFE_data[mon3_index]['adjclose'])-1)*100),2)\n",
    "        \n",
    "# a Python object (dict):\n",
    "PFE_summ_stats = {\n",
    "  \"Annual Return\": PFE_ann_return,\n",
    "  \"Standard Deviation\": round(np.std(PFE_price_array),2),\n",
    "  \"Mean\": round(np.mean(PFE_price_array),2),    \n",
    "  \"Daily Volatility %\": PFE_daily_vol,\n",
    "  \"Annualized Volatility\": PFE_ann_vol,\n",
    "  \"Last 3 Months Return\":  PFE_3mon_return\n",
    "}\n",
    "\n",
    "# convert into JSON:\n",
    "PFE_summ_stats = json.dumps(PFE_summ_stats)\n",
    "\n",
    "# the result is a JSON string:\n",
    "print(PFE_summ_stats)"
   ]
  },
  {
   "cell_type": "markdown",
   "id": "2e83e58e",
   "metadata": {},
   "source": [
    "# BTC Stock Calculations"
   ]
  },
  {
   "cell_type": "code",
   "execution_count": 9,
   "id": "b1c08cf8",
   "metadata": {},
   "outputs": [
    {
     "name": "stdout",
     "output_type": "stream",
     "text": [
      "{\"Annual Return\": -0.39, \"Standard Deviation\": 0.47, \"Mean\": 99.43, \"Daily Volatility %\": 0.47, \"Annualized Volatility\": 7.46, \"Last 3 Months Return\": 0.5}\n"
     ]
    }
   ],
   "source": [
    "with open('../Data/BTC_prices.json') as json_file:\n",
    "    BTC_data = json.load(json_file)\n",
    "    \n",
    "#stock annual return\n",
    "BTC_ann_return=round((((BTC_data[0]['adjclose']/BTC_data[len(BTC_data)-1]['adjclose'])-1)*100),2)\n",
    "\n",
    "BTC_price_array=[]\n",
    "for i in range(len(BTC_data)):\n",
    "    BTC_price_array.append(BTC_data[i]['adjclose'])\n",
    "    \n",
    "#daily volatility\n",
    "BTC_daily_vol = round(np.std(BTC_price_array)/np.mean(BTC_price_array)*100,2)\n",
    "\n",
    "#annualized volatility\n",
    "BTC_ann_vol = BTC_daily_vol * math.sqrt(252)\n",
    "BTC_ann_vol = round(BTC_ann_vol,2)\n",
    "\n",
    "#3 mon return volatility\n",
    "BTC_date_array=[]\n",
    "\n",
    "for y in range(len(BTC_data)):\n",
    "    BTC_date_array.append(datetime.strptime(BTC_data[y]['formatted_date'], '%Y-%m-%d'))\n",
    "    if (y == 0):\n",
    "        firstdate=BTC_date_array[y]\n",
    "    if ((firstdate-BTC_date_array[y]).days==91):\n",
    "        date_3mon_ago=BTC_date_array[y]\n",
    "        mon3_index = y\n",
    "        \n",
    "#last three month return\n",
    "BTC_3mon_return=round((((BTC_data[0]['adjclose']/BTC_data[mon3_index]['adjclose'])-1)*100),2)\n",
    "        \n",
    "# a Python object (dict):\n",
    "BTC_summ_stats = {\n",
    "  \"Annual Return\": BTC_ann_return,\n",
    "  \"Standard Deviation\": round(np.std(BTC_price_array),2),\n",
    "  \"Mean\": round(np.mean(BTC_price_array),2),   \n",
    "  \"Daily Volatility %\": BTC_daily_vol,\n",
    "  \"Annualized Volatility\": BTC_ann_vol,\n",
    "  \"Last 3 Months Return\":  BTC_3mon_return\n",
    "}\n",
    "\n",
    "# convert into JSON:\n",
    "BTC_summ_stats = json.dumps(BTC_summ_stats)\n",
    "\n",
    "# the result is a JSON string:\n",
    "print(BTC_summ_stats)"
   ]
  },
  {
   "cell_type": "code",
   "execution_count": 10,
   "id": "c11e35a9",
   "metadata": {},
   "outputs": [
    {
     "name": "stdout",
     "output_type": "stream",
     "text": [
      "BTC STATS\n",
      "{\"Annual Return\": -0.39, \"Standard Deviation\": 0.47, \"Mean\": 99.43, \"Daily Volatility %\": 0.47, \"Annualized Volatility\": 7.46, \"Last 3 Months Return\": 0.5}\n",
      "--------------------------\n",
      "PFE STATS\n",
      "{\"Annual Return\": 37.43, \"Standard Deviation\": 3.6, \"Mean\": 36.92, \"Daily Volatility %\": 9.76, \"Annualized Volatility\": 154.94, \"Last 3 Months Return\": 23.06}\n",
      "--------------------------\n",
      "AAPL STATS\n",
      "{\"Annual Return\": 19.91, \"Standard Deviation\": 10.44, \"Mean\": 127.51, \"Daily Volatility %\": 8.19, \"Annualized Volatility\": 130.01, \"Last 3 Months Return\": 18.32}\n",
      "--------------------------\n",
      "NFLX STATS\n",
      "{\"Annual Return\": 11.08, \"Standard Deviation\": 23.71, \"Mean\": 515.58, \"Daily Volatility %\": 4.6, \"Annualized Volatility\": 73.02, \"Last 3 Months Return\": 9.84}\n",
      "--------------------------\n",
      "DAL STATS\n",
      "{\"Annual Return\": 39.79, \"Standard Deviation\": 6.0, \"Mean\": 40.8, \"Daily Volatility %\": 14.7, \"Annualized Volatility\": 233.36, \"Last 3 Months Return\": -15.68}\n",
      "--------------------------\n",
      "GOLD STATS\n",
      "{\"Annual Return\": -33.02, \"Standard Deviation\": 2.83, \"Mean\": 23.21, \"Daily Volatility %\": 12.19, \"Annualized Volatility\": 193.51, \"Last 3 Months Return\": -21.41}\n",
      "--------------------------\n",
      "TSLA STATS\n",
      "{\"Annual Return\": 65.92, \"Standard Deviation\": 134.14, \"Mean\": 618.29, \"Daily Volatility %\": 21.69, \"Annualized Volatility\": 344.32, \"Last 3 Months Return\": 17.11}\n",
      "--------------------------\n",
      "SHOP STATS\n",
      "{\"Annual Return\": 42.07, \"Standard Deviation\": 187.12, \"Mean\": 1191.92, \"Daily Volatility %\": 15.7, \"Annualized Volatility\": 249.23, \"Last 3 Months Return\": 18.51}\n"
     ]
    }
   ],
   "source": [
    "print(\"BTC STATS\")\n",
    "print(BTC_summ_stats)\n",
    "print(\"--------------------------\")\n",
    "print(\"PFE STATS\")\n",
    "print(PFE_summ_stats)\n",
    "print(\"--------------------------\")\n",
    "print(\"AAPL STATS\")\n",
    "print(AAPL_summ_stats)\n",
    "print(\"--------------------------\")\n",
    "print(\"NFLX STATS\")\n",
    "print(NFLX_summ_stats)\n",
    "print(\"--------------------------\")\n",
    "print(\"DAL STATS\")\n",
    "print(DAL_summ_stats)\n",
    "print(\"--------------------------\")\n",
    "print(\"GOLD STATS\")\n",
    "print(GOLD_summ_stats)\n",
    "print(\"--------------------------\")\n",
    "print(\"TSLA STATS\")\n",
    "print(TSLA_summ_stats)\n",
    "print(\"--------------------------\")\n",
    "print(\"SHOP STATS\")\n",
    "print(SHOP_summ_stats)"
   ]
  },
  {
   "cell_type": "code",
   "execution_count": null,
   "id": "3d7869f8",
   "metadata": {},
   "outputs": [],
   "source": []
  }
 ],
 "metadata": {
  "kernelspec": {
   "display_name": "Python 3",
   "language": "python",
   "name": "python3"
  },
  "language_info": {
   "codemirror_mode": {
    "name": "ipython",
    "version": 3
   },
   "file_extension": ".py",
   "mimetype": "text/x-python",
   "name": "python",
   "nbconvert_exporter": "python",
   "pygments_lexer": "ipython3",
   "version": "3.8.8"
  }
 },
 "nbformat": 4,
 "nbformat_minor": 5
}

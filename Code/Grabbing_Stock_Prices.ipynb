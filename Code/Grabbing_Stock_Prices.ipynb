{
 "cells": [
  {
   "cell_type": "code",
   "execution_count": 1,
   "id": "8f70b1ac",
   "metadata": {},
   "outputs": [],
   "source": [
    "import requests\n",
    "import json\n",
    "import time"
   ]
  },
  {
   "cell_type": "markdown",
   "id": "5578b0dc",
   "metadata": {},
   "source": [
    "# Grabbing bitcoin"
   ]
  },
  {
   "cell_type": "code",
   "execution_count": 3,
   "id": "e95f278f",
   "metadata": {},
   "outputs": [],
   "source": [
    "import requests\n",
    "\n",
    "url = \"https://apidojo-yahoo-finance-v1.p.rapidapi.com/stock/v3/get-historical-data\"\n",
    "\n",
    "querystring = {\"symbol\":\"BTC-USD\",\"region\":\"US\"}\n",
    "\n",
    "headers = {\n",
    "    'x-rapidapi-host': \"apidojo-yahoo-finance-v1.p.rapidapi.com\",\n",
    "    'x-rapidapi-key': APIKEY\n",
    "    }\n",
    "\n",
    "response = requests.request(\"GET\", url, headers=headers, params=querystring)\n",
    "\n",
    "\n",
    "BTC_datacopy = json.loads(response.text)"
   ]
  },
  {
   "cell_type": "code",
   "execution_count": 4,
   "id": "8d2726f4",
   "metadata": {},
   "outputs": [],
   "source": [
    "#creating a copy so down have to keep grabbing\n",
    "data = BTC_datacopy"
   ]
  },
  {
   "cell_type": "code",
   "execution_count": 5,
   "id": "0a2fabcf",
   "metadata": {},
   "outputs": [],
   "source": [
    "i = -1\n",
    "q = len(data['prices'])-1\n",
    "while i < q:\n",
    "        try:\n",
    "            i+=1\n",
    "            epochtime = data['prices'][i]['date']\n",
    "            data['prices'][i]['adjclose'] = round(data['prices'][i]['adjclose'],2)\n",
    "            time_formatted = time.strftime('%Y-%m-%d', time.localtime(epochtime))\n",
    "            data['prices'][i]['formatted_date'] = time_formatted\n",
    "\n",
    "            del data['prices'][i]['open']\n",
    "            del data['prices'][i]['high']\n",
    "            del data['prices'][i]['low']\n",
    "            del data['prices'][i]['close']\n",
    "            del data['prices'][i]['volume']\n",
    "        except KeyError:\n",
    "            #print(data['prices'][i])\n",
    "            del data['prices'][i]\n",
    "            #print(data['prices'][i])\n",
    "            epochtime = data['prices'][i]['date']\n",
    "            data['prices'][i]['adjclose'] = round(data['prices'][i]['adjclose'],2)\n",
    "            time_formatted = time.strftime('%Y-%m-%d', time.localtime(epochtime))\n",
    "            data['prices'][i]['formatted_date'] = time_formatted\n",
    "\n",
    "            del data['prices'][i]['open']\n",
    "            del data['prices'][i]['high']\n",
    "            del data['prices'][i]['low']\n",
    "            del data['prices'][i]['close']\n",
    "            del data['prices'][i]['volume']\n",
    "            #print(data2['prices'][i]['type'])\n",
    "            q=q-1     \n",
    "        except TypeError:\n",
    "            #print(\"Type error\")\n",
    "            #print(data['prices'][i])\n",
    "            #print(i)\n",
    "            del data['prices'][i]['open']\n",
    "            del data['prices'][i]['high']\n",
    "            del data['prices'][i]['low']\n",
    "            del data['prices'][i]['close']\n",
    "            del data['prices'][i]['volume']\n",
    "            del data['prices'][i]['adjclose']\n",
    "            del data['prices'][i]['date']\n",
    "                     \n"
   ]
  },
  {
   "cell_type": "code",
   "execution_count": 6,
   "id": "ea76b635",
   "metadata": {},
   "outputs": [],
   "source": [
    "BTC_prices = data['prices']\n",
    "BTC_prices = [x for x in BTC_prices if x]"
   ]
  },
  {
   "cell_type": "markdown",
   "id": "1a744d44",
   "metadata": {},
   "source": [
    "# Grabbing Pfizer"
   ]
  },
  {
   "cell_type": "code",
   "execution_count": 7,
   "id": "0a090801",
   "metadata": {},
   "outputs": [],
   "source": [
    "url = \"https://apidojo-yahoo-finance-v1.p.rapidapi.com/stock/v3/get-historical-data\"\n",
    "\n",
    "querystring = {\"symbol\":\"PFE\",\"region\":\"US\"}\n",
    "\n",
    "headers = {\n",
    "    'x-rapidapi-host': \"apidojo-yahoo-finance-v1.p.rapidapi.com\",\n",
    "    'x-rapidapi-key': APIKEY\n",
    "    }\n",
    "\n",
    "response = requests.request(\"GET\", url, headers=headers, params=querystring)\n",
    "\n",
    "\n",
    "PFE_datacopy = json.loads(response.text)"
   ]
  },
  {
   "cell_type": "code",
   "execution_count": 8,
   "id": "60ee9f5e",
   "metadata": {},
   "outputs": [],
   "source": [
    "#creating a copy so down have to keep grabbing\n",
    "data2 = PFE_datacopy"
   ]
  },
  {
   "cell_type": "code",
   "execution_count": 9,
   "id": "beed073c",
   "metadata": {},
   "outputs": [],
   "source": [
    "i = -1\n",
    "q = len(data2['prices'])-1\n",
    "while i < q:\n",
    "\n",
    "        try:          \n",
    "            i+=1\n",
    "            epochtime = data2['prices'][i]['date']\n",
    "            data2['prices'][i]['adjclose'] = round(data2['prices'][i]['adjclose'],2)\n",
    "            time_formatted = time.strftime('%Y-%m-%d', time.localtime(epochtime))\n",
    "            data2['prices'][i]['formatted_date'] = time_formatted\n",
    "\n",
    "            del data2['prices'][i]['open']\n",
    "            del data2['prices'][i]['high']\n",
    "            del data2['prices'][i]['low']\n",
    "            del data2['prices'][i]['close']\n",
    "            del data2['prices'][i]['volume']\n",
    "        except KeyError:\n",
    "            #print(data2['prices'][i])\n",
    "            del data2['prices'][i]\n",
    "            #print(data2['prices'][i])\n",
    "            epochtime = data2['prices'][i]['date']\n",
    "            data2['prices'][i]['adjclose'] = round(data2['prices'][i]['adjclose'],2)\n",
    "            time_formatted = time.strftime('%Y-%m-%d', time.localtime(epochtime))\n",
    "            data2['prices'][i]['formatted_date'] = time_formatted\n",
    "\n",
    "            del data2['prices'][i]['open']\n",
    "            del data2['prices'][i]['high']\n",
    "            del data2['prices'][i]['low']\n",
    "            del data2['prices'][i]['close']\n",
    "            del data2['prices'][i]['volume']\n",
    "            #print(data2['prices'][i]['type'])\n",
    "            q=q-1\n",
    "        except TypeError:\n",
    "            #print(\"Type error\")\n",
    "            #print(data['prices'][i])\n",
    "            #print(i)\n",
    "            del data2['prices'][i]['open']\n",
    "            del data2['prices'][i]['high']\n",
    "            del data2['prices'][i]['low']\n",
    "            del data2['prices'][i]['close']\n",
    "            del data2['prices'][i]['volume']\n",
    "            del data2['prices'][i]['adjclose']\n",
    "            del data2['prices'][i]['date']\n"
   ]
  },
  {
   "cell_type": "code",
   "execution_count": 10,
   "id": "732ad2a4",
   "metadata": {},
   "outputs": [],
   "source": [
    "PFE_prices = data2['prices']\n",
    "PFE_prices = [x for x in PFE_prices if x]"
   ]
  },
  {
   "cell_type": "code",
   "execution_count": 11,
   "id": "8ae59a56",
   "metadata": {},
   "outputs": [],
   "source": [
    "import requests\n",
    "\n",
    "url = \"https://apidojo-yahoo-finance-v1.p.rapidapi.com/stock/v3/get-historical-data\"\n",
    "\n",
    "querystring = {\"symbol\":\"AAPL\",\"region\":\"US\"}\n",
    "\n",
    "headers = {\n",
    "    'x-rapidapi-host': \"apidojo-yahoo-finance-v1.p.rapidapi.com\",\n",
    "    'x-rapidapi-key': APIKEY\n",
    "    }\n",
    "\n",
    "response = requests.request(\"GET\", url, headers=headers, params=querystring)\n",
    "\n",
    "AAPL_datacopy = json.loads(response.text)"
   ]
  },
  {
   "cell_type": "code",
   "execution_count": 12,
   "id": "8fd0c9e2",
   "metadata": {},
   "outputs": [],
   "source": [
    "#creating a copy so down have to keep grabbing\n",
    "data3 = AAPL_datacopy"
   ]
  },
  {
   "cell_type": "code",
   "execution_count": 13,
   "id": "13d38cc8",
   "metadata": {},
   "outputs": [],
   "source": [
    "i = -1\n",
    "q = len(data3['prices'])-1\n",
    "while i < q:\n",
    "\n",
    "        try:          \n",
    "            i+=1\n",
    "            epochtime = data3['prices'][i]['date']\n",
    "            data3['prices'][i]['adjclose'] = round(data3['prices'][i]['adjclose'],2)\n",
    "            time_formatted = time.strftime('%Y-%m-%d', time.localtime(epochtime))\n",
    "            data3['prices'][i]['formatted_date'] = time_formatted\n",
    "\n",
    "            del data3['prices'][i]['open']\n",
    "            del data3['prices'][i]['high']\n",
    "            del data3['prices'][i]['low']\n",
    "            del data3['prices'][i]['close']\n",
    "            del data3['prices'][i]['volume']\n",
    "        except KeyError:\n",
    "            #print(data3['prices'][i])\n",
    "            del data3['prices'][i]\n",
    "            #print(data3['prices'][i])\n",
    "            epochtime = data3['prices'][i]['date']\n",
    "            data3['prices'][i]['adjclose'] = round(data3['prices'][i]['adjclose'],2)\n",
    "            time_formatted = time.strftime('%Y-%m-%d', time.localtime(epochtime))\n",
    "            data3['prices'][i]['formatted_date'] = time_formatted\n",
    "\n",
    "            del data3['prices'][i]['open']\n",
    "            del data3['prices'][i]['high']\n",
    "            del data3['prices'][i]['low']\n",
    "            del data3['prices'][i]['close']\n",
    "            del data3['prices'][i]['volume']\n",
    "            #print(data3['prices'][i]['type'])\n",
    "            q=q-1\n",
    "        except TypeError:\n",
    "            #print(\"Type error\")\n",
    "            #print(data['prices'][i])\n",
    "            #print(i)\n",
    "            del data3['prices'][i]['open']\n",
    "            del data3['prices'][i]['high']\n",
    "            del data3['prices'][i]['low']\n",
    "            del data3['prices'][i]['close']\n",
    "            del data3['prices'][i]['volume']\n",
    "            del data3['prices'][i]['adjclose']\n",
    "            del data3['prices'][i]['date']\n"
   ]
  },
  {
   "cell_type": "code",
   "execution_count": 14,
   "id": "3ef42164",
   "metadata": {},
   "outputs": [],
   "source": [
    "AAPL_prices = data3['prices']\n",
    "AAPL_prices = [x for x in AAPL_prices if x]"
   ]
  },
  {
   "cell_type": "markdown",
   "id": "bf36db79",
   "metadata": {},
   "source": [
    "# Grabbing Netflix"
   ]
  },
  {
   "cell_type": "code",
   "execution_count": 15,
   "id": "6b83be57",
   "metadata": {},
   "outputs": [],
   "source": [
    "import requests\n",
    "\n",
    "url = \"https://apidojo-yahoo-finance-v1.p.rapidapi.com/stock/v3/get-historical-data\"\n",
    "\n",
    "querystring = {\"symbol\":\"NFLX\",\"region\":\"US\"}\n",
    "\n",
    "headers = {\n",
    "    'x-rapidapi-host': \"apidojo-yahoo-finance-v1.p.rapidapi.com\",\n",
    "    'x-rapidapi-key': APIKEY\n",
    "    }\n",
    "\n",
    "response = requests.request(\"GET\", url, headers=headers, params=querystring)\n",
    "\n",
    "NFLX_datacopy = json.loads(response.text)"
   ]
  },
  {
   "cell_type": "code",
   "execution_count": 16,
   "id": "63cbcf1f",
   "metadata": {},
   "outputs": [],
   "source": [
    "#creating a copy so down have to keep grabbing\n",
    "data4 = NFLX_datacopy"
   ]
  },
  {
   "cell_type": "code",
   "execution_count": 17,
   "id": "88817708",
   "metadata": {},
   "outputs": [],
   "source": [
    "i = -1\n",
    "q = len(data4['prices'])-1\n",
    "while i < q:\n",
    "\n",
    "        try:          \n",
    "            i+=1\n",
    "            epochtime = data4['prices'][i]['date']\n",
    "            data4['prices'][i]['adjclose'] = round(data4['prices'][i]['adjclose'],2)\n",
    "            time_formatted = time.strftime('%Y-%m-%d', time.localtime(epochtime))\n",
    "            data4['prices'][i]['formatted_date'] = time_formatted\n",
    "\n",
    "            del data4['prices'][i]['open']\n",
    "            del data4['prices'][i]['high']\n",
    "            del data4['prices'][i]['low']\n",
    "            del data4['prices'][i]['close']\n",
    "            del data4['prices'][i]['volume']\n",
    "        except KeyError:\n",
    "            #print(data4['prices'][i])\n",
    "            del data4['prices'][i]\n",
    "            #print(data4['prices'][i])\n",
    "            epochtime = data4['prices'][i]['date']\n",
    "            data4['prices'][i]['adjclose'] = round(data4['prices'][i]['adjclose'],2)\n",
    "            time_formatted = time.strftime('%Y-%m-%d', time.localtime(epochtime))\n",
    "            data4['prices'][i]['formatted_date'] = time_formatted\n",
    "\n",
    "            del data4['prices'][i]['open']\n",
    "            del data4['prices'][i]['high']\n",
    "            del data4['prices'][i]['low']\n",
    "            del data4['prices'][i]['close']\n",
    "            del data4['prices'][i]['volume']\n",
    "            #print(data4['prices'][i]['type'])\n",
    "            q=q-1\n",
    "        except TypeError:\n",
    "            #print(\"Type error\")\n",
    "            #print(data['prices'][i])\n",
    "            #print(i)\n",
    "            del data4['prices'][i]['open']\n",
    "            del data4['prices'][i]['high']\n",
    "            del data4['prices'][i]['low']\n",
    "            del data4['prices'][i]['close']\n",
    "            del data4['prices'][i]['volume']\n",
    "            del data4['prices'][i]['adjclose']\n",
    "            del data4['prices'][i]['date']"
   ]
  },
  {
   "cell_type": "code",
   "execution_count": 18,
   "id": "fb872dfa",
   "metadata": {},
   "outputs": [],
   "source": [
    "NFLX_prices = data4['prices']\n",
    "NFLX_prices = [x for x in NFLX_prices if x]"
   ]
  },
  {
   "cell_type": "markdown",
   "id": "356806fe",
   "metadata": {},
   "source": [
    "# Grabbing Delta Airlines"
   ]
  },
  {
   "cell_type": "code",
   "execution_count": 19,
   "id": "61b4a279",
   "metadata": {},
   "outputs": [],
   "source": [
    "import requests\n",
    "\n",
    "url = \"https://apidojo-yahoo-finance-v1.p.rapidapi.com/stock/v3/get-historical-data\"\n",
    "\n",
    "querystring = {\"symbol\":\"DAL\",\"region\":\"US\"}\n",
    "\n",
    "headers = {\n",
    "    'x-rapidapi-host': \"apidojo-yahoo-finance-v1.p.rapidapi.com\",\n",
    "    'x-rapidapi-key': APIKEY\n",
    "    }\n",
    "\n",
    "response = requests.request(\"GET\", url, headers=headers, params=querystring)\n",
    "\n",
    "DAL_datacopy = json.loads(response.text)"
   ]
  },
  {
   "cell_type": "code",
   "execution_count": 20,
   "id": "c505d2ab",
   "metadata": {},
   "outputs": [],
   "source": [
    "#creating a copy so down have to keep grabbing\n",
    "data5 = DAL_datacopy"
   ]
  },
  {
   "cell_type": "code",
   "execution_count": 21,
   "id": "30780a17",
   "metadata": {},
   "outputs": [],
   "source": [
    "i = -1\n",
    "q = len(data5['prices'])-1\n",
    "while i < q:\n",
    "\n",
    "        try:          \n",
    "            i+=1\n",
    "            epochtime = data5['prices'][i]['date']\n",
    "            data5['prices'][i]['adjclose'] = round(data5['prices'][i]['adjclose'],2)\n",
    "            time_formatted = time.strftime('%Y-%m-%d', time.localtime(epochtime))\n",
    "            data5['prices'][i]['formatted_date'] = time_formatted\n",
    "\n",
    "            del data5['prices'][i]['open']\n",
    "            del data5['prices'][i]['high']\n",
    "            del data5['prices'][i]['low']\n",
    "            del data5['prices'][i]['close']\n",
    "            del data5['prices'][i]['volume']\n",
    "        except KeyError:\n",
    "            #print(data5['prices'][i])\n",
    "            del data5['prices'][i]\n",
    "            #print(data5['prices'][i])\n",
    "            epochtime = data5['prices'][i]['date']\n",
    "            data5['prices'][i]['adjclose'] = round(data5['prices'][i]['adjclose'],2)\n",
    "            time_formatted = time.strftime('%Y-%m-%d', time.localtime(epochtime))\n",
    "            data5['prices'][i]['formatted_date'] = time_formatted\n",
    "\n",
    "            del data5['prices'][i]['open']\n",
    "            del data5['prices'][i]['high']\n",
    "            del data5['prices'][i]['low']\n",
    "            del data5['prices'][i]['close']\n",
    "            del data5['prices'][i]['volume']\n",
    "            #print(data5['prices'][i]['type'])\n",
    "            q=q-1\n",
    "        except TypeError:\n",
    "            #print(\"Type error\")\n",
    "            #print(data['prices'][i])\n",
    "            #print(i)\n",
    "            del data5['prices'][i]['open']\n",
    "            del data5['prices'][i]['high']\n",
    "            del data5['prices'][i]['low']\n",
    "            del data5['prices'][i]['close']\n",
    "            del data5['prices'][i]['volume']\n",
    "            del data5['prices'][i]['adjclose']\n",
    "            del data5['prices'][i]['date']\n"
   ]
  },
  {
   "cell_type": "code",
   "execution_count": 22,
   "id": "313b02b9",
   "metadata": {},
   "outputs": [],
   "source": [
    "DAL_prices = data5['prices']\n",
    "DAL_prices = [x for x in DAL_prices if x]"
   ]
  },
  {
   "cell_type": "markdown",
   "id": "2878a637",
   "metadata": {},
   "source": [
    "# Grabbing Tesla"
   ]
  },
  {
   "cell_type": "code",
   "execution_count": 23,
   "id": "e14770be",
   "metadata": {},
   "outputs": [],
   "source": [
    "import requests\n",
    "\n",
    "url = \"https://apidojo-yahoo-finance-v1.p.rapidapi.com/stock/v3/get-historical-data\"\n",
    "\n",
    "querystring = {\"symbol\":\"TSLA\",\"region\":\"US\"}\n",
    "\n",
    "headers = {\n",
    "    'x-rapidapi-host': \"apidojo-yahoo-finance-v1.p.rapidapi.com\",\n",
    "    'x-rapidapi-key': APIKEY\n",
    "    }\n",
    "\n",
    "response = requests.request(\"GET\", url, headers=headers, params=querystring)\n",
    "\n",
    "TSLA_datacopy = json.loads(response.text)"
   ]
  },
  {
   "cell_type": "code",
   "execution_count": 24,
   "id": "902d122f",
   "metadata": {},
   "outputs": [],
   "source": [
    "#creating a copy so down have to keep grabbing\n",
    "data6 = TSLA_datacopy"
   ]
  },
  {
   "cell_type": "code",
   "execution_count": 25,
   "id": "95cffa8b",
   "metadata": {},
   "outputs": [],
   "source": [
    "i = -1\n",
    "q = len(data6['prices'])-1\n",
    "while i < q:\n",
    "\n",
    "        try:          \n",
    "            i+=1\n",
    "            epochtime = data6['prices'][i]['date']\n",
    "            data6['prices'][i]['adjclose'] = round(data6['prices'][i]['adjclose'],2)\n",
    "            time_formatted = time.strftime('%Y-%m-%d', time.localtime(epochtime))\n",
    "            data6['prices'][i]['formatted_date'] = time_formatted\n",
    "\n",
    "            del data6['prices'][i]['open']\n",
    "            del data6['prices'][i]['high']\n",
    "            del data6['prices'][i]['low']\n",
    "            del data6['prices'][i]['close']\n",
    "            del data6['prices'][i]['volume']\n",
    "        except KeyError:\n",
    "            #print(data6['prices'][i])\n",
    "            del data6['prices'][i]\n",
    "            #print(data6['prices'][i])\n",
    "            epochtime = data6['prices'][i]['date']\n",
    "            data6['prices'][i]['adjclose'] = round(data6['prices'][i]['adjclose'],2)\n",
    "            time_formatted = time.strftime('%Y-%m-%d', time.localtime(epochtime))\n",
    "            data6['prices'][i]['formatted_date'] = time_formatted\n",
    "\n",
    "            del data6['prices'][i]['open']\n",
    "            del data6['prices'][i]['high']\n",
    "            del data6['prices'][i]['low']\n",
    "            del data6['prices'][i]['close']\n",
    "            del data6['prices'][i]['volume']\n",
    "            #print(data6['prices'][i]['type'])\n",
    "            q=q-1\n",
    "        except TypeError:\n",
    "            #print(\"Type error\")\n",
    "            #print(data['prices'][i])\n",
    "            #print(i)\n",
    "            del data6['prices'][i]['open']\n",
    "            del data6['prices'][i]['high']\n",
    "            del data6['prices'][i]['low']\n",
    "            del data6['prices'][i]['close']\n",
    "            del data6['prices'][i]['volume']\n",
    "            del data6['prices'][i]['adjclose']\n",
    "            del data6['prices'][i]['date']\n"
   ]
  },
  {
   "cell_type": "code",
   "execution_count": 26,
   "id": "7e144264",
   "metadata": {},
   "outputs": [],
   "source": [
    "TSLA_prices = data6['prices']\n",
    "TSLA_prices = [x for x in TSLA_prices if x]"
   ]
  },
  {
   "cell_type": "markdown",
   "id": "f52f6748",
   "metadata": {},
   "source": [
    "# Grabbing Gold"
   ]
  },
  {
   "cell_type": "code",
   "execution_count": 27,
   "id": "87e5396d",
   "metadata": {},
   "outputs": [],
   "source": [
    "import requests\n",
    "\n",
    "url = \"https://apidojo-yahoo-finance-v1.p.rapidapi.com/stock/v3/get-historical-data\"\n",
    "\n",
    "querystring = {\"symbol\":\"GOLD\",\"region\":\"US\"}\n",
    "\n",
    "headers = {\n",
    "    'x-rapidapi-host': \"apidojo-yahoo-finance-v1.p.rapidapi.com\",\n",
    "    'x-rapidapi-key': APIKEY\n",
    "    }\n",
    "\n",
    "response = requests.request(\"GET\", url, headers=headers, params=querystring)\n",
    "\n",
    "GOLD_datacopy = json.loads(response.text)"
   ]
  },
  {
   "cell_type": "code",
   "execution_count": 28,
   "id": "8e3c4373",
   "metadata": {},
   "outputs": [],
   "source": [
    "#creating a copy so down have to keep grabbing\n",
    "data7 = GOLD_datacopy"
   ]
  },
  {
   "cell_type": "code",
   "execution_count": 29,
   "id": "9733a114",
   "metadata": {},
   "outputs": [
    {
     "name": "stdout",
     "output_type": "stream",
     "text": [
      "65\n",
      "255\n",
      "key error\n",
      "{'amount': 0.23, 'date': 1622122200, 'type': 'DIVIDEND', 'data': 0.23}\n",
      "255\n",
      "128\n",
      "254\n",
      "key error\n",
      "{'amount': 0.09, 'date': 1614349800, 'type': 'DIVIDEND', 'data': 0.09}\n",
      "254\n",
      "189\n",
      "253\n",
      "key error\n",
      "{'amount': 0.09, 'date': 1606487400, 'type': 'DIVIDEND', 'data': 0.09}\n",
      "253\n",
      "252\n",
      "252\n",
      "key error\n",
      "{'amount': 0.08, 'date': 1598621400, 'type': 'DIVIDEND', 'data': 0.08}\n",
      "252\n"
     ]
    }
   ],
   "source": [
    "i = -1\n",
    "q = len(data7['prices'])-1\n",
    "while i < q:\n",
    "\n",
    "        try:          \n",
    "            i+=1\n",
    "            epochtime = data7['prices'][i]['date']\n",
    "            data7['prices'][i]['adjclose'] = round(data7['prices'][i]['adjclose'],2)\n",
    "            time_formatted = time.strftime('%Y-%m-%d', time.localtime(epochtime))\n",
    "            data7['prices'][i]['formatted_date'] = time_formatted\n",
    "\n",
    "            del data7['prices'][i]['open']\n",
    "            del data7['prices'][i]['high']\n",
    "            del data7['prices'][i]['low']\n",
    "            del data7['prices'][i]['close']\n",
    "            del data7['prices'][i]['volume']\n",
    "        except KeyError:\n",
    "            print(i)\n",
    "            print(q)\n",
    "            print(\"key error\")\n",
    "            print(data7['prices'][i])\n",
    "            del data7['prices'][i]\n",
    "            #print(data7['prices'][i])\n",
    "            print(q)\n",
    "            if (i==q):\n",
    "                break\n",
    "            else:    \n",
    "                epochtime = data7['prices'][i]['date']\n",
    "                data7['prices'][i]['adjclose'] = round(data7['prices'][i]['adjclose'],2)\n",
    "                time_formatted = time.strftime('%Y-%m-%d', time.localtime(epochtime))\n",
    "                data7['prices'][i]['formatted_date'] = time_formatted\n",
    "\n",
    "                del data7['prices'][i]['open']\n",
    "                del data7['prices'][i]['high']\n",
    "                del data7['prices'][i]['low']\n",
    "                del data7['prices'][i]['close']\n",
    "                del data7['prices'][i]['volume']\n",
    "                #print(data7['prices'][i]['type'])\n",
    "                q=q-1\n",
    "        except TypeError:\n",
    "            #print(\"Type error\")\n",
    "            #print(data['prices'][i])\n",
    "            #print(i)\n",
    "            del data7['prices'][i]['open']\n",
    "            del data7['prices'][i]['high']\n",
    "            del data7['prices'][i]['low']\n",
    "            del data7['prices'][i]['close']\n",
    "            del data7['prices'][i]['volume']\n",
    "            del data7['prices'][i]['adjclose']\n",
    "            del data7['prices'][i]['date']\n"
   ]
  },
  {
   "cell_type": "code",
   "execution_count": 30,
   "id": "0af1110f",
   "metadata": {},
   "outputs": [],
   "source": [
    "GOLD_prices = data7['prices']\n",
    "GOLD_prices = [x for x in GOLD_prices if x]"
   ]
  },
  {
   "cell_type": "markdown",
   "id": "101d678e",
   "metadata": {},
   "source": [
    "# Grabbing Shopify"
   ]
  },
  {
   "cell_type": "code",
   "execution_count": 31,
   "id": "15cf3e18",
   "metadata": {},
   "outputs": [],
   "source": [
    "import requests\n",
    "\n",
    "url = \"https://apidojo-yahoo-finance-v1.p.rapidapi.com/stock/v3/get-historical-data\"\n",
    "\n",
    "querystring = {\"symbol\":\"SHOP\",\"region\":\"US\"}\n",
    "\n",
    "headers = {\n",
    "    'x-rapidapi-host': \"apidojo-yahoo-finance-v1.p.rapidapi.com\",\n",
    "    'x-rapidapi-key': APIKEY\n",
    "    }\n",
    "\n",
    "response = requests.request(\"GET\", url, headers=headers, params=querystring)\n",
    "\n",
    "SHOP_datacopy = json.loads(response.text)"
   ]
  },
  {
   "cell_type": "code",
   "execution_count": 32,
   "id": "fa65264c",
   "metadata": {},
   "outputs": [],
   "source": [
    "#creating a copy so down have to keep grabbing\n",
    "data8 = SHOP_datacopy"
   ]
  },
  {
   "cell_type": "code",
   "execution_count": 33,
   "id": "6ff67fdd",
   "metadata": {},
   "outputs": [],
   "source": [
    "i = -1\n",
    "q = len(data8['prices'])-1\n",
    "while i < q:\n",
    "\n",
    "        try:          \n",
    "            i+=1\n",
    "            epochtime = data8['prices'][i]['date']\n",
    "            data8['prices'][i]['adjclose'] = round(data8['prices'][i]['adjclose'],2)\n",
    "            time_formatted = time.strftime('%Y-%m-%d', time.localtime(epochtime))\n",
    "            data8['prices'][i]['formatted_date'] = time_formatted\n",
    "\n",
    "            del data8['prices'][i]['open']\n",
    "            del data8['prices'][i]['high']\n",
    "            del data8['prices'][i]['low']\n",
    "            del data8['prices'][i]['close']\n",
    "            del data8['prices'][i]['volume']\n",
    "        except KeyError:\n",
    "            #print(data8['prices'][i])\n",
    "            del data8['prices'][i]\n",
    "            #print(data8['prices'][i])\n",
    "            epochtime = data8['prices'][i]['date']\n",
    "            data8['prices'][i]['adjclose'] = round(data8['prices'][i]['adjclose'],2)\n",
    "            time_formatted = time.strftime('%Y-%m-%d', time.localtime(epochtime))\n",
    "            data8['prices'][i]['formatted_date'] = time_formatted\n",
    "\n",
    "            del data8['prices'][i]['open']\n",
    "            del data8['prices'][i]['high']\n",
    "            del data8['prices'][i]['low']\n",
    "            del data8['prices'][i]['close']\n",
    "            del data8['prices'][i]['volume']\n",
    "            #print(data8['prices'][i]['type'])\n",
    "            q=q-1\n",
    "        except TypeError:\n",
    "            #print(\"Type error\")\n",
    "            #print(data['prices'][i])\n",
    "            #print(i)\n",
    "            del data8['prices'][i]['open']\n",
    "            del data8['prices'][i]['high']\n",
    "            del data8['prices'][i]['low']\n",
    "            del data8['prices'][i]['close']\n",
    "            del data8['prices'][i]['volume']\n",
    "            del data8['prices'][i]['adjclose']\n",
    "            del data8['prices'][i]['date']\n"
   ]
  },
  {
   "cell_type": "code",
   "execution_count": 34,
   "id": "e43c9ce8",
   "metadata": {},
   "outputs": [],
   "source": [
    "SHOP_prices = data8['prices']\n",
    "SHOP_prices = [x for x in SHOP_prices if x]"
   ]
  },
  {
   "cell_type": "code",
   "execution_count": 35,
   "id": "cc7f3440",
   "metadata": {},
   "outputs": [],
   "source": [
    "with open('../Data/SHOP_prices.json', 'w') as outfile:\n",
    "    json.dump(SHOP_prices, outfile)    "
   ]
  },
  {
   "cell_type": "code",
   "execution_count": 36,
   "id": "9d0b3c73",
   "metadata": {},
   "outputs": [],
   "source": [
    "with open('../Data/GOLD_prices.json', 'w') as outfile:\n",
    "    json.dump(GOLD_prices, outfile)"
   ]
  },
  {
   "cell_type": "code",
   "execution_count": 37,
   "id": "b1d52c9d",
   "metadata": {},
   "outputs": [],
   "source": [
    "with open('../Data/TSLA_prices.json', 'w') as outfile:\n",
    "    json.dump(TSLA_prices, outfile)"
   ]
  },
  {
   "cell_type": "code",
   "execution_count": 38,
   "id": "a524fb5a",
   "metadata": {},
   "outputs": [],
   "source": [
    "with open('../Data/DAL_prices.json', 'w') as outfile:\n",
    "    json.dump(DAL_prices, outfile)"
   ]
  },
  {
   "cell_type": "code",
   "execution_count": 39,
   "id": "7a50945f",
   "metadata": {},
   "outputs": [],
   "source": [
    "with open('../Data/NFLX_prices.json', 'w') as outfile:\n",
    "    json.dump(NFLX_prices, outfile)"
   ]
  },
  {
   "cell_type": "code",
   "execution_count": 40,
   "id": "d251cfb4",
   "metadata": {},
   "outputs": [],
   "source": [
    "with open('../Data/AAPL_prices.json', 'w') as outfile:\n",
    "    json.dump(AAPL_prices, outfile)"
   ]
  },
  {
   "cell_type": "code",
   "execution_count": 41,
   "id": "c87c524a",
   "metadata": {},
   "outputs": [],
   "source": [
    "with open('../Data/PFE_prices.json', 'w') as outfile:\n",
    "    json.dump(PFE_prices, outfile)"
   ]
  },
  {
   "cell_type": "code",
   "execution_count": 42,
   "id": "17b44ab7",
   "metadata": {},
   "outputs": [],
   "source": [
    "with open('../Data/BTC_prices.json', 'w') as outfile:\n",
    "    json.dump(BTC_prices, outfile)"
   ]
  },
  {
   "cell_type": "code",
   "execution_count": null,
   "id": "7fb9850e",
   "metadata": {},
   "outputs": [],
   "source": []
  }
 ],
 "metadata": {
  "kernelspec": {
   "display_name": "Python 3",
   "language": "python",
   "name": "python3"
  },
  "language_info": {
   "codemirror_mode": {
    "name": "ipython",
    "version": 3
   },
   "file_extension": ".py",
   "mimetype": "text/x-python",
   "name": "python",
   "nbconvert_exporter": "python",
   "pygments_lexer": "ipython3",
   "version": "3.8.8"
  }
 },
 "nbformat": 4,
 "nbformat_minor": 5
}

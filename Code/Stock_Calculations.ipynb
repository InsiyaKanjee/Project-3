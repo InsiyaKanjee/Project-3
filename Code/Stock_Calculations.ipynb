{
 "cells": [
  {
   "cell_type": "code",
   "execution_count": 1,
   "id": "a8031e4e",
   "metadata": {},
   "outputs": [],
   "source": [
    "import json\n",
    "import numpy as np\n",
    "import math\n",
    "from datetime import datetime"
   ]
  },
  {
   "cell_type": "markdown",
   "id": "a07e5aef",
   "metadata": {},
   "source": [
    "# SHOP Stock Calculations"
   ]
  },
  {
   "cell_type": "code",
   "execution_count": 2,
   "id": "6ce68ee2",
   "metadata": {},
   "outputs": [],
   "source": [
    "with open('../Data/SHOP_prices.json') as json_file:\n",
    "    SHOP_data = json.load(json_file)"
   ]
  },
  {
   "cell_type": "code",
   "execution_count": 3,
   "id": "64db760e",
   "metadata": {},
   "outputs": [
    {
     "data": {
      "text/plain": [
       "252"
      ]
     },
     "execution_count": 3,
     "metadata": {},
     "output_type": "execute_result"
    }
   ],
   "source": [
    "len(SHOP_data)"
   ]
  },
  {
   "cell_type": "code",
   "execution_count": 4,
   "id": "d0e63208",
   "metadata": {},
   "outputs": [
    {
     "data": {
      "text/plain": [
       "{'date': 1629466200, 'adjclose': 1450.7, 'formatted_date': '2021-08-20'}"
      ]
     },
     "execution_count": 4,
     "metadata": {},
     "output_type": "execute_result"
    }
   ],
   "source": [
    "SHOP_data[0]"
   ]
  },
  {
   "cell_type": "code",
   "execution_count": 5,
   "id": "4cf26756",
   "metadata": {},
   "outputs": [
    {
     "data": {
      "text/plain": [
       "{'date': 1598016600, 'adjclose': 1021.12, 'formatted_date': '2020-08-21'}"
      ]
     },
     "execution_count": 5,
     "metadata": {},
     "output_type": "execute_result"
    }
   ],
   "source": [
    "SHOP_data[251]"
   ]
  },
  {
   "cell_type": "code",
   "execution_count": 6,
   "id": "b603ca22",
   "metadata": {},
   "outputs": [
    {
     "data": {
      "text/plain": [
       "42.07"
      ]
     },
     "execution_count": 6,
     "metadata": {},
     "output_type": "execute_result"
    }
   ],
   "source": [
    "#stock annual return\n",
    "SHOP_ann_return=round((((SHOP_data[0]['adjclose']/SHOP_data[len(SHOP_data)-1]['adjclose'])-1)*100),2)\n",
    "SHOP_ann_return"
   ]
  },
  {
   "cell_type": "code",
   "execution_count": 7,
   "id": "2a99cef1",
   "metadata": {},
   "outputs": [],
   "source": [
    "SHOP_price_array=[]\n",
    "for i in range(len(SHOP_data)):\n",
    "    SHOP_price_array.append(SHOP_data[i]['adjclose'])"
   ]
  },
  {
   "cell_type": "code",
   "execution_count": 8,
   "id": "8beb104b",
   "metadata": {},
   "outputs": [
    {
     "data": {
      "text/plain": [
       "187.12"
      ]
     },
     "execution_count": 8,
     "metadata": {},
     "output_type": "execute_result"
    }
   ],
   "source": [
    "#daily volatility\n",
    "SHOP_daily_vol = round(np.std(SHOP_price_array),2)\n",
    "SHOP_daily_vol"
   ]
  },
  {
   "cell_type": "code",
   "execution_count": 9,
   "id": "f976f73b",
   "metadata": {},
   "outputs": [
    {
     "data": {
      "text/plain": [
       "2970.44"
      ]
     },
     "execution_count": 9,
     "metadata": {},
     "output_type": "execute_result"
    }
   ],
   "source": [
    "#annualized volatility\n",
    "SHOP_ann_vol = SHOP_daily_vol * math.sqrt(252)\n",
    "SHOP_ann_vol = round(SHOP_ann_vol,2)\n",
    "SHOP_ann_vol"
   ]
  },
  {
   "cell_type": "code",
   "execution_count": 10,
   "id": "4430cfef",
   "metadata": {},
   "outputs": [
    {
     "name": "stdout",
     "output_type": "stream",
     "text": [
      "2021-08-20 00:00:00\n",
      "2021-05-21 00:00:00\n"
     ]
    }
   ],
   "source": [
    "#3 mon return volatility\n",
    "SHOP_date_array=[]\n",
    "\n",
    "for i in range(len(SHOP_data)):\n",
    "    SHOP_date_array.append(datetime.strptime(SHOP_data[i]['formatted_date'], '%Y-%m-%d'))\n",
    "    if (i == 0):\n",
    "        firstdate=SHOP_date_array[i]\n",
    "    if ((firstdate-SHOP_date_array[i]).days==91):\n",
    "        date_3mon_ago=SHOP_date_array[i]\n",
    "        mon3_index = i\n",
    "    #print((firstdate-SHOP_date_array[i]).days)\n",
    "\n",
    "print(firstdate)\n",
    "print(date_3mon_ago)"
   ]
  },
  {
   "cell_type": "code",
   "execution_count": 11,
   "id": "e1cd7e09",
   "metadata": {},
   "outputs": [
    {
     "data": {
      "text/plain": [
       "18.51"
      ]
     },
     "execution_count": 11,
     "metadata": {},
     "output_type": "execute_result"
    }
   ],
   "source": [
    "#last three month return\n",
    "SHOP_3mon_return=round((((SHOP_data[0]['adjclose']/SHOP_data[mon3_index]['adjclose'])-1)*100),2)\n",
    "SHOP_3mon_return"
   ]
  }
 ],
 "metadata": {
  "kernelspec": {
   "display_name": "Python 3",
   "language": "python",
   "name": "python3"
  },
  "language_info": {
   "codemirror_mode": {
    "name": "ipython",
    "version": 3
   },
   "file_extension": ".py",
   "mimetype": "text/x-python",
   "name": "python",
   "nbconvert_exporter": "python",
   "pygments_lexer": "ipython3",
   "version": "3.8.8"
  }
 },
 "nbformat": 4,
 "nbformat_minor": 5
}
